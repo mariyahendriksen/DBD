{
 "cells": [
  {
   "cell_type": "code",
   "execution_count": 35,
   "metadata": {},
   "outputs": [],
   "source": [
    "import gensim\n",
    "from gensim.scripts.glove2word2vec import glove2word2vec\n",
    "from gensim.models import KeyedVectors\n",
    "import os, json\n",
    "import numpy as np\n",
    "import json\n",
    "import numpy as np\n",
    "from nltk.stem import WordNetLemmatizer\n",
    "from nltk.tokenize import word_tokenize\n",
    "from nltk.tokenize.casual import TweetTokenizer\n",
    "from collections import Counter\n",
    "from nltk.stem import WordNetLemmatizer\n",
    "from nltk.tokenize import word_tokenize\n",
    "from nltk.tokenize.casual import TweetTokenizer\n",
    "from collections import Counter\n",
    "\n",
    "\n",
    "# contants\n",
    "WORD_EMBEDDING_DIMENSIONALITY = 300\n",
    "UTTERANCE_DIMENSIONALITY = 300\n",
    "MAX_TURNS = 21\n",
    "\n",
    "num_to_label = {0:'NB', 1:'PB', 2:'B', 3:'U'}\n",
    "label_to_num = {'NB':0, \"PB\":1, 'B':2, 'U':3}\n",
    "\n",
    "NB_LABELS = len(num_to_label)"
   ]
  },
  {
   "cell_type": "markdown",
   "metadata": {},
   "source": [
    "## Utils"
   ]
  },
  {
   "cell_type": "code",
   "execution_count": 54,
   "metadata": {},
   "outputs": [],
   "source": [
    "#####################################\n",
    "# file path -> array\n",
    "#####################################\n",
    "def json_file_path_to_array(json_file_path):\n",
    "    '''Takes path to json file and return its dialogue as an array of turns'''\n",
    "    with open(json_file_path) as json_f:\n",
    "        d = json.load(json_f)\n",
    "    parsed = []\n",
    "    def parse_turn(turn):\n",
    "        '''parse turn, separate utterances and labels'''\n",
    "        utterance = turn['utterance']\n",
    "        if not turn['annotations']:\n",
    "            return utterance\n",
    "        else:\n",
    "            breakdown_l = [annotation['breakdown'] for annotation in turn['annotations']]\n",
    "            return (utterance, breakdown_l)    \n",
    "    for t in d['turns']:\n",
    "        parsed.append(parse_turn(t))\n",
    "    return parsed\n",
    "\n",
    "#####################################\n",
    "# array of labels -> score\n",
    "#####################################\n",
    "def dialogue_array_score(dialogue):\n",
    "    '''Tranform 30 labels of each system response into one majority score'''\n",
    "    # print('scoring labels of the dialogue - ', dialogue)\n",
    "    for i, turn in enumerate(dialogue):\n",
    "        if isinstance(turn, tuple):\n",
    "            local_turn, labels = dialogue[i]\n",
    "            NB = labels.count('O')\n",
    "            PB = labels.count('X')\n",
    "            B = labels.count('T')\n",
    "            counts_array = np.array([NB, PB, B])\n",
    "            final_label = np.argmax(counts_array)\n",
    "            dialogue[i] = (local_turn, final_label)\n",
    "    return dialogue\n",
    "\n",
    "\n",
    "# separate labels and utterances\n",
    "def separate_turns_labels(dialogue):\n",
    "    '''takes a dialogue array with labelled system responses as an input and\n",
    "    returns arrays of its utterances and corresponding labels'''\n",
    "    utterances = []\n",
    "    labels = []\n",
    "    for t in dialogue:\n",
    "        if isinstance(t,tuple):\n",
    "            # system turn\n",
    "            utterances.append(t[0])\n",
    "            labels.append(t[1])\n",
    "        else:\n",
    "            # user turn\n",
    "            utterances.append(t)\n",
    "            labels.append(label_to_num['U'])\n",
    "    return utterances, labels\n",
    "\n",
    "\n",
    "def tokens_replacement(tokens):\n",
    "    '''\n",
    "    the function replaces some of the contractions with an apostrophe with more appropariate counterparts\n",
    "    '''\n",
    "    replacement_dict = dict({\n",
    "    \"That's\": 'That is',\n",
    "    \"that's\": 'that is',\n",
    "    \"What's\": 'What is',\n",
    "    \"what's\": 'what is',\n",
    "    \"Let's\": 'Lets',\n",
    "    \"let's\": 'lets',\n",
    "    \"that's\": 'that is',\n",
    "    \"You're\": 'You are',\n",
    "    \"you're\": 'you are',\n",
    "    \"i'm\": \"I'm\",\n",
    "    \"isn't\": \"is not\",\n",
    "    \"haven't\": \"have not\",\n",
    "    \"wasn't\": \"was not\",\n",
    "    \"wouldn't\": \"would not\",\n",
    "    \"shouldn't\": \"should not\",\n",
    "    \"there's\": \"there is\",\n",
    "    \"They're\": \"They are\",\n",
    "    \"they're\": \"they're\",\n",
    "    \"we're\": \"we are\"\n",
    "    })\n",
    "    \n",
    "    for i, token in enumerate(tokens):\n",
    "        if token in replacement_dict:\n",
    "            del tokens[i]\n",
    "            replacement = TweetTokenizer().tokenize(replacement_dict[token])\n",
    "            tokens.extend(replacement)\n",
    "    return tokens\n",
    "\n",
    "\n",
    "def text_preprocessing(utterance):\n",
    "    '''takes utterance, tokenizes it and removes punctuation\n",
    "    returns list of tokens'''\n",
    "    # tokenize\n",
    "    tokenizer = TweetTokenizer(preserve_case = True)\n",
    "    tokens = tokenizer.tokenize(utterance)\n",
    "    # remove punctuation\n",
    "    punctuation_signs = ['.', ',', '!', '?', ',', ':', '\"', \"'\", '...', '’', '-', '–', ')', '(', '…', '”', '/']\n",
    "    tokens = [word for word in tokens if word not in punctuation_signs]\n",
    "    # fix hyphenation\n",
    "    tokens = tokens_replacement(tokens)\n",
    "    # replace i'm -> I'm\n",
    "    if \"i'm\" in tokens:\n",
    "        tokens = [\"I'm\" if token == \"i'm\" else token for token in tokens]\n",
    "    \n",
    "    # lowercase <- only relevant for twitter embedding\n",
    "    # tokens = [word.lower() for word in tokens]\n",
    "    return tokens\n",
    "\n",
    "\n",
    "def utterance_emb(utterance_tokens):\n",
    "    '''the function takes utterance tokens as an input and returns utterance embedding'''\n",
    "    # embedd each word\n",
    "    word_embeddings = []\n",
    "    for token in utterance_tokens:\n",
    "        try:\n",
    "            word_embeddings.append(model[token])\n",
    "        except:\n",
    "            # unk token\n",
    "            UNK_TOKENS.append(token)\n",
    "            word_embeddings.append(model['unk'])    \n",
    "    # get utterance representation  \n",
    "    utterance_embedding = np.zeros(shape=(UTTERANCE_DIMENSIONALITY,))\n",
    "    # sum up embeddings if turn is non empty\n",
    "    if len(word_embeddings) > 0:\n",
    "        # sum embeddings over\n",
    "        for emb in word_embeddings:\n",
    "            utterance_embedding += emb\n",
    "        utterance_embedding = utterance_embedding/len(word_embeddings)\n",
    "    return utterance_embedding\n",
    "\n",
    "# dialogue represenation\n",
    "def turns_to_dialogue_emb(turns):\n",
    "    '''the function takes array of turns and returns dialogue mebedding'''\n",
    "    dialogue_embedding = np.empty(shape = 0)\n",
    "    counter = 1\n",
    "    for t in turns:\n",
    "        preprocessed_tokens = text_preprocessing(t)\n",
    "        utterance_embedding = utterance_emb(preprocessed_tokens)\n",
    "        dialogue_embedding = np.concatenate((dialogue_embedding, utterance_embedding), axis = 0)\n",
    "        counter += 1\n",
    "    # padding\n",
    "    if len(turns) < 21:\n",
    "        dialogue_embedding = np.concatenate((dialogue_embedding, np.zeros(shape = (WORD_EMBEDDING_DIMENSIONALITY,))))\n",
    "    # reshape dialogue\n",
    "    dialogue_embedding = dialogue_embedding.reshape(-1, WORD_EMBEDDING_DIMENSIONALITY)\n",
    "    return dialogue_embedding\n",
    "\n",
    "\n",
    "#--------------------------------------------------\n",
    "# process dialogue labels\n",
    "#--------------------------------------------------\n",
    "def get_one_hot(targets, nb_classes):\n",
    "    res = np.eye(nb_classes)[np.array(targets).reshape(-1)]\n",
    "    return res.reshape(list(targets.shape)+[nb_classes])\n",
    "\n",
    "\n",
    "def labels_encode(labels):\n",
    "    labels_embedding = get_one_hot(np.array(labels), NB_LABELS)\n",
    "    # padding: \n",
    "    if labels_embedding.shape[0] < 21:\n",
    "        pad = np.zeros(shape=(1,NB_LABELS))\n",
    "        labels_embedding = np.concatenate((labels_embedding, pad))\n",
    "    return labels_embedding\n",
    "\n",
    "\n",
    "#--------------------------------------------------\n",
    "# training history analysis\n",
    "#--------------------------------------------------\n",
    "def print_history(history):\n",
    "    return 'val loss - {}, val acc - {},\\neval loss - {}, eval acc - {}'.format(history.history['val_loss'][-1], history.history['val_acc'][-1], history.history['loss'][-1], history.history['acc'][-1])\n",
    "\n",
    "\n",
    "import matplotlib.pyplot as plt\n",
    "def plot_accuracy(history):\n",
    "    # summarize history for accuracy\n",
    "    plt.plot(history.history['acc'])\n",
    "    plt.plot(history.history['val_acc'])\n",
    "    plt.title('model accuracy')\n",
    "    plt.ylabel('accuracy')\n",
    "    plt.xlabel('epoch')\n",
    "    plt.legend(['train', 'test'], loc='upper left')\n",
    "    plt.show()\n",
    "    \n",
    "def plot_loss(history):\n",
    "    # summarize history for loss\n",
    "    plt.plot(history.history['loss'])\n",
    "    plt.plot(history.history['val_loss'])\n",
    "    plt.title('model loss')\n",
    "    plt.ylabel('loss')\n",
    "    plt.xlabel('epoch')\n",
    "    plt.legend(['train', 'test'], loc='upper left')\n",
    "    plt.show()\n",
    "\n",
    "\n",
    "\n",
    "def pred_tensor_to_labels(labels_tensor):\n",
    "    '''the function takes a tensor of one-hot encoded dialogue labels and returns an array of labels'''\n",
    "    labels = []\n",
    "    for dialogue_labels in labels_tensor:\n",
    "        for turn in dialogue_labels:\n",
    "            label = num_to_label[np.argmax(turn)]\n",
    "            labels.append(label)\n",
    "    return labels\n",
    "\n",
    "\n",
    "\n",
    "# confusion matrix\n",
    "from sklearn.metrics import confusion_matrix\n",
    "import itertools\n",
    "\n",
    "def plot_confusion_matrix(cm, classes,\n",
    "                          normalize=False,\n",
    "                          title='Confusion matrix',\n",
    "                          cmap=plt.cm.Blues):\n",
    "    \"\"\"\n",
    "    This function prints and plots the confusion matrix.\n",
    "    Normalization can be applied by setting `normalize=True`.\n",
    "    \"\"\"\n",
    "    plt.figure()\n",
    "    \n",
    "    if normalize:\n",
    "        cm = cm.astype('float') / cm.sum(axis=1)[:, np.newaxis]\n",
    "        print(\"Normalized confusion matrix\")\n",
    "    else:\n",
    "        print('Confusion matrix, without normalization')\n",
    "\n",
    "    print(cm)\n",
    "\n",
    "    plt.imshow(cm, interpolation='nearest', cmap=cmap)\n",
    "    plt.title(title)\n",
    "    plt.colorbar()\n",
    "    tick_marks = np.arange(len(classes))\n",
    "    plt.xticks(tick_marks, classes, rotation=45)\n",
    "    plt.yticks(tick_marks, classes)\n",
    "\n",
    "    fmt = '.2f' if normalize else 'd'\n",
    "    thresh = cm.max() / 2.\n",
    "    for i, j in itertools.product(range(cm.shape[0]), range(cm.shape[1])):\n",
    "        plt.text(j, i, format(cm[i, j], fmt),\n",
    "                 horizontalalignment=\"center\",\n",
    "                 color=\"white\" if cm[i, j] > thresh else \"black\")\n",
    "\n",
    "    plt.ylabel('True label')\n",
    "    plt.xlabel('Predicted label')\n",
    "    plt.tight_layout()\n",
    "    plt.show()\n",
    "\n",
    "    \n",
    "# plot normalized confusion matrix\n",
    "def cnf_matrix(labels_true, labels_pred, labels):\n",
    "    labels_array = np.array(labels)\n",
    "    cnf_matrix = confusion_matrix(labels_true, labels_pred)\n",
    "    # labels_array = np.array(['NB', 'PB', 'B'])\n",
    "\n",
    "    np.set_printoptions(precision=2)\n",
    "    plot_confusion_matrix(cnf_matrix, classes=labels_array, normalize=True,\n",
    "                          title='Normalized confusion matrix')\n",
    "\n",
    "def clf_report(labels_true, labels_pred): \n",
    "    # plot classification report\n",
    "    print('Classification report for eval data:\\n', classification_report(labels_true, labels_pred))"
   ]
  },
  {
   "cell_type": "markdown",
   "metadata": {},
   "source": [
    "## dataset preprocessing"
   ]
  },
  {
   "cell_type": "code",
   "execution_count": 55,
   "metadata": {},
   "outputs": [
    {
     "name": "stdout",
     "output_type": "stream",
     "text": [
      "processing dataset -  ../dbdc/dev/CIC_115\n",
      "processing dataset -  ../dbdc/dev/IRIS_100\n",
      "processing dataset -  ../dbdc/dev/TKTK_100\n",
      "processing dataset -  ../dbdc/dev/YI_100\n",
      "processing dataset -  ../dbdc/eval/CIC_50\n",
      "processing dataset -  ../dbdc/eval/IRIS_50\n",
      "processing dataset -  ../dbdc/eval/TKTK_50\n",
      "processing dataset -  ../dbdc/eval/YI_50\n",
      "Dev set contains 415 dialogues\n",
      "Eval set contains 200 dialogues\n"
     ]
    }
   ],
   "source": [
    "# generate pathes to the datasets\n",
    "base_path = \"../dbdc/\"\n",
    "\n",
    "CIC_115_dev = base_path + 'dev/' + 'CIC_115'\n",
    "IRIS_100_dev = base_path + 'dev/' + 'IRIS_100'\n",
    "TKTK_100_dev = base_path + 'dev/' + 'TKTK_100'\n",
    "YI_100_dev = base_path + 'dev/' + 'YI_100'\n",
    "\n",
    "dev_datasets_pathes = [CIC_115_dev, IRIS_100_dev, TKTK_100_dev, YI_100_dev]\n",
    "\n",
    "CIC_50_eval = base_path + 'eval/' + 'CIC_50'\n",
    "IRIS_50_eval = base_path + 'eval/' + 'IRIS_50'\n",
    "TKTK_50_eval = base_path + 'eval/' + 'TKTK_50'\n",
    "YI_50_eval = base_path + 'eval/' + 'YI_50'\n",
    "\n",
    "eval_datasets_pathes = [CIC_50_eval, IRIS_50_eval, TKTK_50_eval, YI_50_eval]\n",
    "\n",
    "\n",
    "# collect pathes to dev files\n",
    "dev_files_pathes = []\n",
    "for dataset_path in dev_datasets_pathes:\n",
    "    print('processing dataset - ', dataset_path)\n",
    "    for i in os.listdir(dataset_path):\n",
    "        path = dataset_path + '/' + i\n",
    "        dev_files_pathes.append(path)\n",
    "        \n",
    "# collect pathes to eval files\n",
    "eval_files_pathes = []\n",
    "for dataset_path in eval_datasets_pathes:\n",
    "    print('processing dataset - ', dataset_path)\n",
    "    for i in os.listdir(dataset_path):\n",
    "        path = dataset_path + '/' + i\n",
    "        eval_files_pathes.append(path)\n",
    "\n",
    "print('Dev set contains {} dialogues'.format(len(dev_files_pathes)))\n",
    "print('Eval set contains {} dialogues'.format(len(eval_files_pathes)))"
   ]
  },
  {
   "cell_type": "code",
   "execution_count": 56,
   "metadata": {},
   "outputs": [],
   "source": [
    "# getting list of dev dialogues\n",
    "dev_dialogues = []\n",
    "for path in dev_files_pathes:\n",
    "    dialogue = json_file_path_to_array(path)\n",
    "    scored_dialogue = dialogue_array_score(dialogue)\n",
    "    dev_dialogues.append(scored_dialogue)\n",
    "\n",
    "# getting list of eval dialogues\n",
    "eval_dialogues = []\n",
    "for path in eval_files_pathes:\n",
    "    dialogue = json_file_path_to_array(path)\n",
    "    scored_dialogue = dialogue_array_score(dialogue)\n",
    "    eval_dialogues.append(scored_dialogue)"
   ]
  },
  {
   "cell_type": "code",
   "execution_count": 57,
   "metadata": {},
   "outputs": [
    {
     "data": {
      "text/plain": [
       "Counter({3: 2098, 1: 499, 2: 745, 0: 756})"
      ]
     },
     "execution_count": 57,
     "metadata": {},
     "output_type": "execute_result"
    }
   ],
   "source": [
    "eval_labels = []\n",
    "for dialogue in eval_dialogues:\n",
    "    _, labels = separate_turns_labels(dialogue)\n",
    "    eval_labels.extend(labels)\n",
    "    \n",
    "labels_counter_eval = Counter(eval_labels)\n",
    "labels_counter_eval"
   ]
  },
  {
   "cell_type": "markdown",
   "metadata": {},
   "source": [
    "## loading word2vec"
   ]
  },
  {
   "cell_type": "code",
   "execution_count": 58,
   "metadata": {},
   "outputs": [],
   "source": [
    "# load model\n",
    "model = gensim.models.KeyedVectors.load_word2vec_format('../models/GoogleNews300.bin', binary=True, unicode_errors='ignore')"
   ]
  },
  {
   "cell_type": "markdown",
   "metadata": {},
   "source": [
    "## tensors prep"
   ]
  },
  {
   "cell_type": "code",
   "execution_count": 61,
   "metadata": {},
   "outputs": [],
   "source": [
    "# prepare dev tensors: input and target\n",
    "dev_input = np.array([]).reshape(-1,WORD_EMBEDDING_DIMENSIONALITY)\n",
    "dev_target = np.array([]).reshape(-1,NB_LABELS)\n",
    "#-----------------------------------------\n",
    "\n",
    "UNK_TOKENS = []\n",
    "# dev dialogues\n",
    "counter = 1\n",
    "for dialogue in dev_dialogues:\n",
    "    # unpack turns and labels\n",
    "    turns, labels = separate_turns_labels(dialogue)\n",
    "    # get dialogue emb\n",
    "    dialogue_emb = turns_to_dialogue_emb(turns)\n",
    "    # concat dialogue emb to the dev_input tensor\n",
    "    dev_input = np.concatenate((dev_input, dialogue_emb))\n",
    "    # get labels embedding\n",
    "    lables_emb = labels_encode(labels)\n",
    "    # concat labels emb to the dev_target tensor\n",
    "    dev_target = np.concatenate((dev_target, lables_emb))\n",
    "    counter += 1"
   ]
  },
  {
   "cell_type": "code",
   "execution_count": 62,
   "metadata": {},
   "outputs": [
    {
     "name": "stdout",
     "output_type": "stream",
     "text": [
      "X_train shape - (415, 21, 300), y_train shape - (415, 21, 4)\n"
     ]
    }
   ],
   "source": [
    "# reshape dev input and dev target tensors\n",
    "X_train = dev_input.reshape(-1,21,UTTERANCE_DIMENSIONALITY)\n",
    "y_train = dev_target.reshape(-1,21,NB_LABELS)\n",
    "\n",
    "# check the shapes\n",
    "print('X_train shape - {}, y_train shape - {}'.format(X_train.shape, y_train.shape))"
   ]
  },
  {
   "cell_type": "code",
   "execution_count": 64,
   "metadata": {},
   "outputs": [],
   "source": [
    "# prepare eval tensors: input and target\n",
    "eval_input = np.array([]).reshape(-1,WORD_EMBEDDING_DIMENSIONALITY)\n",
    "eval_target = np.array([]).reshape(-1,NB_LABELS)\n",
    "#-----------------------------------------\n",
    "\n",
    "# eval dialogues\n",
    "counter = 1\n",
    "for dialogue in eval_dialogues:\n",
    "    # unpack turns and labels\n",
    "    turns, labels = separate_turns_labels(dialogue)\n",
    "    # get dialogue emb\n",
    "    dialogue_emb = turns_to_dialogue_emb(turns)\n",
    "    # concat dialogue emb to the dev_input tensor\n",
    "    eval_input = np.concatenate((eval_input, dialogue_emb))\n",
    "    # get labels embedding\n",
    "    lables_emb = labels_encode(labels)\n",
    "    # concat labels emb to the dev_target tensor\n",
    "    eval_target = np.concatenate((eval_target, lables_emb))\n",
    "    counter += 1"
   ]
  },
  {
   "cell_type": "code",
   "execution_count": 65,
   "metadata": {},
   "outputs": [
    {
     "name": "stdout",
     "output_type": "stream",
     "text": [
      "X_test shape - (200, 21, 300), y_test shape - (200, 21, 4)\n"
     ]
    }
   ],
   "source": [
    "# reshape eval input and eval target tensors\n",
    "X_test = eval_input.reshape(-1,21,UTTERANCE_DIMENSIONALITY)\n",
    "y_test = eval_target.reshape(-1,21,NB_LABELS)\n",
    "\n",
    "# check the shapes\n",
    "print('X_test shape - {}, y_test shape - {}'.format(X_test.shape, y_test.shape))"
   ]
  },
  {
   "cell_type": "code",
   "execution_count": 66,
   "metadata": {},
   "outputs": [],
   "source": [
    "# checking nans and infs in the embeddings\n",
    "dataset = [X_train, y_train, X_test, y_test]\n",
    "for subset in dataset:\n",
    "    for datapoint in subset:\n",
    "        if np.isnan(datapoint).any():\n",
    "            print(subset, ' has nan values!')\n",
    "        if np.isinf(datapoint).any():\n",
    "            print(subset, ' has inf values!')"
   ]
  },
  {
   "cell_type": "code",
   "execution_count": 67,
   "metadata": {},
   "outputs": [
    {
     "name": "stdout",
     "output_type": "stream",
     "text": [
      "[('to', 1988), ('a', 1776), ('of', 796), ('and', 510), (':(', 161), (';(', 72), ('\\\\', 65), ('..', 31), ('50', 30), ('Uh-huh', 24), (\"How's\", 17), ('renato', 14), (\"She's\", 11), ('umbria', 11), ('Https', 10), ('perugia', 9), (\"i've\", 8), ('altopana', 8), ('42', 7), ('1995', 7), ('travelling', 7), (\"Where's\", 7), (';', 7), ('cavuto', 6), ('40', 6), ('10', 6), ('ConvAI', 6), ('Чо', 6), ('13', 6), ('1960s', 6), ('camelia', 5), ('www.youtube.com/watch', 5), (\"Aren't\", 5), ('100', 5), ('questionHow', 4), ('25', 4), ('35', 4), ('20', 4), ('10,000', 4), ('2005', 4), ('17', 4), (\"Man's\", 4), ('hormuud', 4), ('Whazzup', 4), ('Aquestionaboutthepassage', 4), ('1953', 4), ('werner', 4), ('Maintenence', 4), ('forbo', 4), ('Pellit', 4)]\n",
      "the language model doesnt know 6480 tokens, 600 out of them unique\n"
     ]
    }
   ],
   "source": [
    "# checking unk tokens\n",
    "unk_bow = Counter(UNK_TOKENS)\n",
    "print(unk_bow.most_common(50))\n",
    "print('the embedding model doesnt know {} tokens, {} out of them unique'.format(len(UNK_TOKENS), len(set(UNK_TOKENS))))"
   ]
  },
  {
   "cell_type": "markdown",
   "metadata": {},
   "source": [
    "# building the models"
   ]
  },
  {
   "cell_type": "code",
   "execution_count": 16,
   "metadata": {},
   "outputs": [
    {
     "name": "stderr",
     "output_type": "stream",
     "text": [
      "Using TensorFlow backend.\n"
     ]
    }
   ],
   "source": [
    "from keras.models import Sequential\n",
    "from keras.layers import Input, Dense, LSTM, Activation, TimeDistributed\n",
    "from keras.utils import plot_model\n",
    "from keras.optimizers import Adam\n",
    "from keras.callbacks import EarlyStopping\n",
    "import pydot"
   ]
  },
  {
   "cell_type": "code",
   "execution_count": 17,
   "metadata": {},
   "outputs": [
    {
     "name": "stdout",
     "output_type": "stream",
     "text": [
      "_________________________________________________________________\n",
      "Layer (type)                 Output Shape              Param #   \n",
      "=================================================================\n",
      "lstm_1 (LSTM)                (None, 21, 64)            93440     \n",
      "_________________________________________________________________\n",
      "dense_1 (Dense)              (None, 21, 64)            4160      \n",
      "_________________________________________________________________\n",
      "dense_2 (Dense)              (None, 21, 64)            4160      \n",
      "_________________________________________________________________\n",
      "dense_3 (Dense)              (None, 21, 4)             260       \n",
      "=================================================================\n",
      "Total params: 102,020\n",
      "Trainable params: 102,020\n",
      "Non-trainable params: 0\n",
      "_________________________________________________________________\n",
      "Train on 415 samples, validate on 200 samples\n",
      "Epoch 1/100\n",
      "415/415 [==============================] - 3s 7ms/step - loss: 1.2200 - acc: 0.4799 - val_loss: 1.2562 - val_acc: 0.4995\n",
      "Epoch 2/100\n",
      "415/415 [==============================] - 1s 2ms/step - loss: 1.1676 - acc: 0.5002 - val_loss: 1.2062 - val_acc: 0.4995\n",
      "Epoch 3/100\n",
      "415/415 [==============================] - 1s 2ms/step - loss: 1.1409 - acc: 0.5021 - val_loss: 1.1857 - val_acc: 0.4995\n",
      "Epoch 4/100\n",
      "415/415 [==============================] - 1s 2ms/step - loss: 1.1169 - acc: 0.5069 - val_loss: 1.1907 - val_acc: 0.4979\n",
      "Epoch 5/100\n",
      "415/415 [==============================] - 1s 2ms/step - loss: 1.1002 - acc: 0.5164 - val_loss: 1.1798 - val_acc: 0.4905\n",
      "Epoch 6/100\n",
      "415/415 [==============================] - 1s 2ms/step - loss: 1.0787 - acc: 0.5240 - val_loss: 1.1427 - val_acc: 0.5014\n",
      "Epoch 7/100\n",
      "415/415 [==============================] - 1s 2ms/step - loss: 1.0523 - acc: 0.5388 - val_loss: 1.1097 - val_acc: 0.5174\n",
      "Epoch 8/100\n",
      "415/415 [==============================] - 1s 2ms/step - loss: 1.0260 - acc: 0.5463 - val_loss: 1.0694 - val_acc: 0.5367\n",
      "Epoch 9/100\n",
      "415/415 [==============================] - 1s 2ms/step - loss: 0.9853 - acc: 0.5645 - val_loss: 0.9961 - val_acc: 0.5705\n",
      "Epoch 10/100\n",
      "415/415 [==============================] - 1s 2ms/step - loss: 0.9367 - acc: 0.5871 - val_loss: 0.9776 - val_acc: 0.5819\n",
      "Epoch 11/100\n",
      "415/415 [==============================] - 1s 2ms/step - loss: 0.8584 - acc: 0.6266 - val_loss: 0.9195 - val_acc: 0.6131\n",
      "Epoch 12/100\n",
      "415/415 [==============================] - 1s 3ms/step - loss: 0.7524 - acc: 0.6660 - val_loss: 0.7812 - val_acc: 0.6488\n",
      "Epoch 13/100\n",
      "415/415 [==============================] - 1s 3ms/step - loss: 0.6874 - acc: 0.6976 - val_loss: 0.8050 - val_acc: 0.6412\n",
      "Epoch 14/100\n",
      "415/415 [==============================] - 1s 2ms/step - loss: 0.6822 - acc: 0.6957 - val_loss: 0.7372 - val_acc: 0.6600\n",
      "Epoch 15/100\n",
      "415/415 [==============================] - 1s 2ms/step - loss: 0.6585 - acc: 0.7014 - val_loss: 0.7204 - val_acc: 0.6655\n",
      "Epoch 16/100\n",
      "415/415 [==============================] - 1s 2ms/step - loss: 0.6296 - acc: 0.7180 - val_loss: 0.7092 - val_acc: 0.6757\n",
      "Epoch 17/100\n",
      "415/415 [==============================] - 1s 2ms/step - loss: 0.6192 - acc: 0.7200 - val_loss: 0.7159 - val_acc: 0.6829\n",
      "Epoch 18/100\n",
      "415/415 [==============================] - 1s 3ms/step - loss: 0.5975 - acc: 0.7273 - val_loss: 0.7476 - val_acc: 0.6636\n",
      "Epoch 19/100\n",
      "415/415 [==============================] - 1s 2ms/step - loss: 0.5883 - acc: 0.7279 - val_loss: 0.7426 - val_acc: 0.6593\n",
      "Epoch 20/100\n",
      "415/415 [==============================] - 1s 2ms/step - loss: 0.5822 - acc: 0.7293 - val_loss: 0.7472 - val_acc: 0.6707\n",
      "Epoch 21/100\n",
      "415/415 [==============================] - 1s 2ms/step - loss: 0.5612 - acc: 0.7364 - val_loss: 0.7753 - val_acc: 0.6736\n"
     ]
    }
   ],
   "source": [
    "#####################################\n",
    "# model 1 - vanilla\n",
    "#####################################\n",
    "vanilla = Sequential()\n",
    "# input layer - lstm\n",
    "lstm1 = LSTM(64, input_shape=(21, UTTERANCE_DIMENSIONALITY), return_sequences=True, dropout = 0.1, recurrent_dropout = 0.1)\n",
    "vanilla.add(lstm1)\n",
    "#-----------------------------\n",
    "# hidden layers\n",
    "#-----------------------------\n",
    "# dense 1\n",
    "dense1 = Dense(64, activation = 'relu')\n",
    "vanilla.add(dense1)\n",
    "# dense 2\n",
    "dense2 = Dense(64, activation = 'relu')\n",
    "vanilla.add(dense2)\n",
    "# output layer\n",
    "outputs = Dense(NB_LABELS, activation = 'softmax')\n",
    "vanilla.add(outputs)\n",
    "vanilla.summary()\n",
    "\n",
    "vanilla.compile(\n",
    "    optimizer = 'rmsprop',\n",
    "    loss = 'categorical_crossentropy',\n",
    "    metrics=['accuracy'])\n",
    "\n",
    "vanilla_history = vanilla.fit(\n",
    "    X_train, y_train,\n",
    "    batch_size=32,\n",
    "    validation_data = (X_test, y_test),\n",
    "    callbacks = [EarlyStopping(monitor='val_loss', patience=5)],\n",
    "    epochs=100)"
   ]
  },
  {
   "cell_type": "code",
   "execution_count": 18,
   "metadata": {},
   "outputs": [
    {
     "name": "stdout",
     "output_type": "stream",
     "text": [
      "Stacked lstm:\n",
      "\n",
      "_________________________________________________________________\n",
      "Layer (type)                 Output Shape              Param #   \n",
      "=================================================================\n",
      "lstm_2 (LSTM)                (None, 21, 64)            93440     \n",
      "_________________________________________________________________\n",
      "lstm_3 (LSTM)                (None, 21, 64)            33024     \n",
      "_________________________________________________________________\n",
      "dense_4 (Dense)              (None, 21, 64)            4160      \n",
      "_________________________________________________________________\n",
      "dense_5 (Dense)              (None, 21, 4)             260       \n",
      "=================================================================\n",
      "Total params: 130,884\n",
      "Trainable params: 130,884\n",
      "Non-trainable params: 0\n",
      "_________________________________________________________________\n",
      "None\n",
      "Model compiled\n",
      "Train on 415 samples, validate on 200 samples\n",
      "Epoch 1/100\n",
      "415/415 [==============================] - 6s 13ms/step - loss: 1.2416 - acc: 0.4779 - val_loss: 1.2792 - val_acc: 0.4995\n",
      "Epoch 2/100\n",
      "415/415 [==============================] - 2s 4ms/step - loss: 1.1940 - acc: 0.5002 - val_loss: 1.2872 - val_acc: 0.4755\n",
      "Epoch 3/100\n",
      "415/415 [==============================] - 2s 4ms/step - loss: 1.1760 - acc: 0.4990 - val_loss: 1.2119 - val_acc: 0.4995\n",
      "Epoch 4/100\n",
      "415/415 [==============================] - 2s 4ms/step - loss: 1.1635 - acc: 0.5002 - val_loss: 1.2117 - val_acc: 0.4995\n",
      "Epoch 5/100\n",
      "415/415 [==============================] - 2s 4ms/step - loss: 1.1506 - acc: 0.4997 - val_loss: 1.2183 - val_acc: 0.4995\n",
      "Epoch 6/100\n",
      "415/415 [==============================] - 2s 4ms/step - loss: 1.1444 - acc: 0.5002 - val_loss: 1.1968 - val_acc: 0.4995\n",
      "Epoch 7/100\n",
      "415/415 [==============================] - 2s 4ms/step - loss: 1.1377 - acc: 0.5002 - val_loss: 1.1935 - val_acc: 0.4995\n",
      "Epoch 8/100\n",
      "415/415 [==============================] - 2s 5ms/step - loss: 1.1278 - acc: 0.4999 - val_loss: 1.1778 - val_acc: 0.4995\n",
      "Epoch 9/100\n",
      "415/415 [==============================] - 2s 5ms/step - loss: 1.1141 - acc: 0.5009 - val_loss: 1.1851 - val_acc: 0.5176\n",
      "Epoch 10/100\n",
      "415/415 [==============================] - 2s 5ms/step - loss: 1.0826 - acc: 0.5161 - val_loss: 1.0561 - val_acc: 0.5574\n",
      "Epoch 11/100\n",
      "415/415 [==============================] - 2s 4ms/step - loss: 0.9912 - acc: 0.5624 - val_loss: 0.9281 - val_acc: 0.5917\n",
      "Epoch 12/100\n",
      "415/415 [==============================] - 2s 4ms/step - loss: 0.8904 - acc: 0.6129 - val_loss: 0.9037 - val_acc: 0.6133\n",
      "Epoch 13/100\n",
      "415/415 [==============================] - 2s 4ms/step - loss: 0.8252 - acc: 0.6407 - val_loss: 0.8043 - val_acc: 0.6400\n",
      "Epoch 14/100\n",
      "415/415 [==============================] - 2s 4ms/step - loss: 0.7655 - acc: 0.6571 - val_loss: 0.7936 - val_acc: 0.6533\n",
      "Epoch 15/100\n",
      "415/415 [==============================] - 2s 4ms/step - loss: 0.7153 - acc: 0.6785 - val_loss: 0.7557 - val_acc: 0.6619\n",
      "Epoch 16/100\n",
      "415/415 [==============================] - 2s 4ms/step - loss: 0.6856 - acc: 0.6898 - val_loss: 0.7554 - val_acc: 0.6714\n",
      "Epoch 17/100\n",
      "415/415 [==============================] - 1s 4ms/step - loss: 0.6708 - acc: 0.7012 - val_loss: 0.7222 - val_acc: 0.6752\n",
      "Epoch 18/100\n",
      "415/415 [==============================] - 1s 4ms/step - loss: 0.6688 - acc: 0.6970 - val_loss: 0.7397 - val_acc: 0.6705\n",
      "Epoch 19/100\n",
      "415/415 [==============================] - 1s 4ms/step - loss: 0.6453 - acc: 0.7114 - val_loss: 0.7130 - val_acc: 0.6760\n",
      "Epoch 20/100\n",
      "415/415 [==============================] - 2s 4ms/step - loss: 0.6251 - acc: 0.7173 - val_loss: 0.7867 - val_acc: 0.6652\n",
      "Epoch 21/100\n",
      "415/415 [==============================] - 2s 4ms/step - loss: 0.5933 - acc: 0.7273 - val_loss: 0.7918 - val_acc: 0.6510\n",
      "Epoch 22/100\n",
      "415/415 [==============================] - 2s 5ms/step - loss: 0.5971 - acc: 0.7268 - val_loss: 0.7435 - val_acc: 0.6798\n",
      "Epoch 23/100\n",
      "415/415 [==============================] - 2s 4ms/step - loss: 0.5966 - acc: 0.7299 - val_loss: 0.7078 - val_acc: 0.6776\n",
      "Epoch 24/100\n",
      "415/415 [==============================] - 2s 4ms/step - loss: 0.5681 - acc: 0.7384 - val_loss: 0.7437 - val_acc: 0.6833\n",
      "Epoch 25/100\n",
      "415/415 [==============================] - 2s 5ms/step - loss: 0.5407 - acc: 0.7414 - val_loss: 0.7530 - val_acc: 0.6802\n",
      "Epoch 26/100\n",
      "415/415 [==============================] - 2s 4ms/step - loss: 0.5453 - acc: 0.7353 - val_loss: 0.6977 - val_acc: 0.6683\n",
      "Epoch 27/100\n",
      "415/415 [==============================] - 3s 7ms/step - loss: 0.5533 - acc: 0.7367 - val_loss: 0.7200 - val_acc: 0.6800\n",
      "Epoch 28/100\n",
      "415/415 [==============================] - 3s 7ms/step - loss: 0.5166 - acc: 0.7497 - val_loss: 0.7472 - val_acc: 0.6793\n",
      "Epoch 29/100\n",
      "415/415 [==============================] - 1s 3ms/step - loss: 0.5208 - acc: 0.7513 - val_loss: 0.7261 - val_acc: 0.6750\n",
      "Epoch 30/100\n",
      "415/415 [==============================] - 1s 3ms/step - loss: 0.5262 - acc: 0.7473 - val_loss: 0.7237 - val_acc: 0.6733\n",
      "Epoch 31/100\n",
      "415/415 [==============================] - 1s 3ms/step - loss: 0.5200 - acc: 0.7492 - val_loss: 0.7322 - val_acc: 0.6814\n"
     ]
    }
   ],
   "source": [
    "#####################################\n",
    "# model 2 - stacked\n",
    "#####################################\n",
    "stacked = Sequential()\n",
    "# input layer - lstm\n",
    "lstm1 = LSTM(64, input_shape=(21, UTTERANCE_DIMENSIONALITY), return_sequences=True, dropout = 0.1, recurrent_dropout = 0.1)\n",
    "stacked.add(lstm1)\n",
    "#-----------------------------\n",
    "# hidden layers\n",
    "#-----------------------------\n",
    "# dense 1\n",
    "lstm2 = LSTM(64, input_shape=(21, UTTERANCE_DIMENSIONALITY), return_sequences=True, dropout = 0.1, recurrent_dropout = 0.1)\n",
    "stacked.add(lstm2)\n",
    "# dense 3\n",
    "dense3 = Dense(64, activation = 'relu')\n",
    "stacked.add(dense3)\n",
    "# output layer\n",
    "outputs = Dense(NB_LABELS, activation = 'softmax')\n",
    "stacked.add(outputs)\n",
    "print('Stacked lstm:\\n')\n",
    "print(stacked.summary())\n",
    "\n",
    "# compile\n",
    "stacked.compile(\n",
    "    optimizer = 'rmsprop',\n",
    "    loss = 'categorical_crossentropy',\n",
    "    metrics=['accuracy'])\n",
    "print('Model compiled')\n",
    "\n",
    "# fit\n",
    "stacked_history = stacked.fit(\n",
    "    X_train, y_train,\n",
    "    batch_size=32,\n",
    "    validation_data = (X_test, y_test),\n",
    "    callbacks = [EarlyStopping(monitor='val_loss', patience=5)],\n",
    "    epochs=100)"
   ]
  },
  {
   "cell_type": "code",
   "execution_count": 19,
   "metadata": {},
   "outputs": [
    {
     "name": "stdout",
     "output_type": "stream",
     "text": [
      "Bi-lstm:\n",
      "\n",
      "_________________________________________________________________\n",
      "Layer (type)                 Output Shape              Param #   \n",
      "=================================================================\n",
      "bidirectional_1 (Bidirection (None, 21, 64)            186880    \n",
      "_________________________________________________________________\n",
      "dense_6 (Dense)              (None, 21, 64)            4160      \n",
      "_________________________________________________________________\n",
      "dense_7 (Dense)              (None, 21, 64)            4160      \n",
      "_________________________________________________________________\n",
      "dense_8 (Dense)              (None, 21, 4)             260       \n",
      "=================================================================\n",
      "Total params: 195,460\n",
      "Trainable params: 195,460\n",
      "Non-trainable params: 0\n",
      "_________________________________________________________________\n",
      "None\n",
      "Model compiled\n",
      "Train on 415 samples, validate on 200 samples\n",
      "Epoch 1/100\n",
      "415/415 [==============================] - 5s 12ms/step - loss: 1.2061 - acc: 0.4757 - val_loss: 1.2259 - val_acc: 0.4995\n",
      "Epoch 2/100\n",
      "415/415 [==============================] - 1s 3ms/step - loss: 1.1503 - acc: 0.5017 - val_loss: 1.1860 - val_acc: 0.5017\n",
      "Epoch 3/100\n",
      "415/415 [==============================] - 1s 3ms/step - loss: 1.1341 - acc: 0.5068 - val_loss: 1.2091 - val_acc: 0.5083\n",
      "Epoch 4/100\n",
      "415/415 [==============================] - 1s 3ms/step - loss: 1.1093 - acc: 0.5129 - val_loss: 1.1864 - val_acc: 0.4952\n",
      "Epoch 5/100\n",
      "415/415 [==============================] - 1s 3ms/step - loss: 1.0883 - acc: 0.5275 - val_loss: 1.1611 - val_acc: 0.5190\n",
      "Epoch 6/100\n",
      "415/415 [==============================] - 1s 3ms/step - loss: 1.0698 - acc: 0.5332 - val_loss: 1.1011 - val_acc: 0.5419\n",
      "Epoch 7/100\n",
      "415/415 [==============================] - 1s 3ms/step - loss: 1.0466 - acc: 0.5416 - val_loss: 1.1037 - val_acc: 0.5381\n",
      "Epoch 8/100\n",
      "415/415 [==============================] - 1s 3ms/step - loss: 1.0295 - acc: 0.5480 - val_loss: 1.1015 - val_acc: 0.5417\n",
      "Epoch 9/100\n",
      "415/415 [==============================] - 1s 3ms/step - loss: 0.9990 - acc: 0.5622 - val_loss: 1.0508 - val_acc: 0.5619\n",
      "Epoch 10/100\n",
      "415/415 [==============================] - 1s 3ms/step - loss: 0.9640 - acc: 0.5718 - val_loss: 0.9887 - val_acc: 0.5762\n",
      "Epoch 11/100\n",
      "415/415 [==============================] - 1s 3ms/step - loss: 0.9072 - acc: 0.6008 - val_loss: 0.9404 - val_acc: 0.5957\n",
      "Epoch 12/100\n",
      "415/415 [==============================] - 1s 3ms/step - loss: 0.8264 - acc: 0.6418 - val_loss: 0.8345 - val_acc: 0.6333\n",
      "Epoch 13/100\n",
      "415/415 [==============================] - 1s 3ms/step - loss: 0.7131 - acc: 0.6879 - val_loss: 0.7686 - val_acc: 0.6674\n",
      "Epoch 14/100\n",
      "415/415 [==============================] - 1s 3ms/step - loss: 0.6421 - acc: 0.7085 - val_loss: 0.7530 - val_acc: 0.6671\n",
      "Epoch 15/100\n",
      "415/415 [==============================] - 2s 4ms/step - loss: 0.6087 - acc: 0.7264 - val_loss: 0.7652 - val_acc: 0.6700\n",
      "Epoch 16/100\n",
      "415/415 [==============================] - 2s 5ms/step - loss: 0.5858 - acc: 0.7354 - val_loss: 0.7033 - val_acc: 0.6814\n",
      "Epoch 17/100\n",
      "415/415 [==============================] - 2s 5ms/step - loss: 0.5528 - acc: 0.7455 - val_loss: 0.6836 - val_acc: 0.6888\n",
      "Epoch 18/100\n",
      "415/415 [==============================] - 1s 4ms/step - loss: 0.5429 - acc: 0.7449 - val_loss: 0.7105 - val_acc: 0.6783\n",
      "Epoch 19/100\n",
      "415/415 [==============================] - 1s 3ms/step - loss: 0.5291 - acc: 0.7538 - val_loss: 0.6876 - val_acc: 0.6867\n",
      "Epoch 20/100\n",
      "415/415 [==============================] - 1s 3ms/step - loss: 0.4971 - acc: 0.7601 - val_loss: 0.6692 - val_acc: 0.6893\n",
      "Epoch 21/100\n",
      "415/415 [==============================] - 2s 4ms/step - loss: 0.5117 - acc: 0.7561 - val_loss: 0.6860 - val_acc: 0.6840\n",
      "Epoch 22/100\n",
      "415/415 [==============================] - 1s 3ms/step - loss: 0.4893 - acc: 0.7640 - val_loss: 0.6572 - val_acc: 0.7005\n",
      "Epoch 23/100\n",
      "415/415 [==============================] - 2s 4ms/step - loss: 0.4825 - acc: 0.7635 - val_loss: 0.6854 - val_acc: 0.6921\n",
      "Epoch 24/100\n",
      "415/415 [==============================] - 1s 3ms/step - loss: 0.4668 - acc: 0.7710 - val_loss: 0.6808 - val_acc: 0.6929\n",
      "Epoch 25/100\n",
      "415/415 [==============================] - 1s 3ms/step - loss: 0.4713 - acc: 0.7671 - val_loss: 0.6915 - val_acc: 0.6876\n",
      "Epoch 26/100\n",
      "415/415 [==============================] - 1s 3ms/step - loss: 0.4730 - acc: 0.7696 - val_loss: 0.6744 - val_acc: 0.6881\n",
      "Epoch 27/100\n",
      "415/415 [==============================] - 2s 4ms/step - loss: 0.4607 - acc: 0.7704 - val_loss: 0.7244 - val_acc: 0.6700\n"
     ]
    }
   ],
   "source": [
    "#####################################\n",
    "# model 3 - bidirectional\n",
    "#####################################\n",
    "from keras.layers import Bidirectional\n",
    "\n",
    "bi_lstm = Sequential()\n",
    "# input layer - bi-lstm\n",
    "lstm1 = Bidirectional(LSTM(64, return_sequences=True, dropout = 0.1, recurrent_dropout = 0.1),\n",
    "                        input_shape=(21, UTTERANCE_DIMENSIONALITY),\n",
    "                    merge_mode = 'sum')\n",
    "bi_lstm.add(lstm1)\n",
    "#-----------------------------\n",
    "# hidden layers\n",
    "#-----------------------------\n",
    "# dense 1\n",
    "dense1 = Dense(64, activation = 'relu')\n",
    "bi_lstm.add(dense1)\n",
    "# dense 2\n",
    "dense3 = Dense(64, activation = 'relu')\n",
    "bi_lstm.add(dense3)\n",
    "# output layer\n",
    "outputs = Dense(NB_LABELS, activation = 'softmax')\n",
    "bi_lstm.add(outputs)\n",
    "bi_lstm.build()\n",
    "print('Bi-lstm:\\n')\n",
    "print(bi_lstm.summary())\n",
    "\n",
    "# compile\n",
    "bi_lstm.compile(\n",
    "    optimizer = 'rmsprop',\n",
    "    loss = 'categorical_crossentropy',\n",
    "    metrics=['accuracy'])\n",
    "print('Model compiled')\n",
    "\n",
    "# fit\n",
    "bi_lstm_history = bi_lstm.fit(\n",
    "    X_train, y_train,\n",
    "    batch_size=32,\n",
    "    validation_data = (X_test, y_test),\n",
    "    callbacks = [EarlyStopping(monitor='val_loss', patience=5)],\n",
    "    epochs=100)"
   ]
  },
  {
   "cell_type": "markdown",
   "metadata": {},
   "source": [
    "## evaluation"
   ]
  },
  {
   "cell_type": "code",
   "execution_count": 20,
   "metadata": {},
   "outputs": [
    {
     "name": "stdout",
     "output_type": "stream",
     "text": [
      "Vanilla lstm:\n"
     ]
    },
    {
     "data": {
      "image/png": "[encoded data removed]",
      "text/plain": [
       "<Figure size 432x288 with 1 Axes>"
      ]
     },
     "metadata": {
      "needs_background": "light"
     },
     "output_type": "display_data"
    },
    {
     "data": {
      "image/png": "[encoded data removed]",
      "text/plain": [
       "<Figure size 432x288 with 1 Axes>"
      ]
     },
     "metadata": {
      "needs_background": "light"
     },
     "output_type": "display_data"
    }
   ],
   "source": [
    "print('Vanilla lstm:')\n",
    "plot_accuracy(vanilla_history)\n",
    "plot_loss(vanilla_history)"
   ]
  },
  {
   "cell_type": "code",
   "execution_count": 21,
   "metadata": {},
   "outputs": [
    {
     "name": "stdout",
     "output_type": "stream",
     "text": [
      "Stacked lstm:\n"
     ]
    },
    {
     "data": {
      "image/png": "[encoded data removed]",
      "text/plain": [
       "<Figure size 432x288 with 1 Axes>"
      ]
     },
     "metadata": {
      "needs_background": "light"
     },
     "output_type": "display_data"
    },
    {
     "data": {
      "image/png": "[encoded data removed]",
      "text/plain": [
       "<Figure size 432x288 with 1 Axes>"
      ]
     },
     "metadata": {
      "needs_background": "light"
     },
     "output_type": "display_data"
    }
   ],
   "source": [
    "print('Stacked lstm:')\n",
    "plot_accuracy(stacked_history)\n",
    "plot_loss(stacked_history)"
   ]
  },
  {
   "cell_type": "code",
   "execution_count": 22,
   "metadata": {
    "scrolled": true
   },
   "outputs": [
    {
     "name": "stdout",
     "output_type": "stream",
     "text": [
      "Bi lstm:\n"
     ]
    },
    {
     "data": {
      "image/png": "[encoded data removed]",
      "text/plain": [
       "<Figure size 432x288 with 1 Axes>"
      ]
     },
     "metadata": {
      "needs_background": "light"
     },
     "output_type": "display_data"
    },
    {
     "data": {
      "image/png": "[encoded data removed]",
      "text/plain": [
       "<Figure size 432x288 with 1 Axes>"
      ]
     },
     "metadata": {
      "needs_background": "light"
     },
     "output_type": "display_data"
    }
   ],
   "source": [
    "print('Bi lstm:')\n",
    "plot_accuracy(bi_lstm_history)\n",
    "plot_loss(bi_lstm_history)"
   ]
  },
  {
   "cell_type": "code",
   "execution_count": 23,
   "metadata": {},
   "outputs": [],
   "source": [
    "from sklearn.metrics import classification_report\n",
    "\n",
    "labels_true = pred_tensor_to_labels(y_test)\n",
    "# vanilla\n",
    "y_pred_vanilla = vanilla.predict(X_test)\n",
    "labels_pred_vanilla = pred_tensor_to_labels(y_pred_vanilla)\n",
    "# stacked\n",
    "y_pred_stacked = stacked.predict(X_test)\n",
    "labels_pred_stacked = pred_tensor_to_labels(y_pred_stacked)\n",
    "# bilstm\n",
    "y_pred_bi_lstm = bi_lstm.predict(X_test)\n",
    "labels_pred_bi_lstm = pred_tensor_to_labels(y_pred_bi_lstm)"
   ]
  },
  {
   "cell_type": "code",
   "execution_count": 24,
   "metadata": {},
   "outputs": [],
   "source": [
    "# removing U label for accuracy measures\n",
    "true_labels_no_U = []\n",
    "vanilla_pred_no_U = []\n",
    "stacked_pred_no_U = []\n",
    "bi_lstm_pred_no_U = []\n",
    "for true_label, pred_vanilla, pred_stacked, pred_bi_lstm in zip(labels_true, labels_pred_vanilla, labels_pred_stacked, labels_pred_bi_lstm):\n",
    "    if true_label != 'U':\n",
    "        true_labels_no_U.append(true_label)\n",
    "        vanilla_pred_no_U.append(pred_vanilla)\n",
    "        stacked_pred_no_U.append(pred_stacked)\n",
    "        bi_lstm_pred_no_U.append(pred_bi_lstm)"
   ]
  },
  {
   "cell_type": "code",
   "execution_count": 25,
   "metadata": {},
   "outputs": [
    {
     "name": "stdout",
     "output_type": "stream",
     "text": [
      "Accuracies:\n",
      "vanilla - 0.4077069457659372,\n",
      " stacked - 0.41246431969552805,\n",
      " bi-lstm - 0.39200761179828736\n"
     ]
    }
   ],
   "source": [
    "# ACCURACY\n",
    "from sklearn.metrics import accuracy_score, precision_score, recall_score, f1_score\n",
    "\n",
    "# counted only for NB, PB, B true labels (U label is omitted)\n",
    "acc_vanilla = accuracy_score(true_labels_no_U, vanilla_pred_no_U)\n",
    "acc_stacked = accuracy_score(true_labels_no_U, stacked_pred_no_U)\n",
    "acc_bi_lstm = accuracy_score(true_labels_no_U, bi_lstm_pred_no_U)\n",
    "print(\"Accuracies:\\nvanilla - {},\\n stacked - {},\\n bi-lstm - {}\".format(acc_vanilla, acc_stacked, acc_bi_lstm))"
   ]
  },
  {
   "cell_type": "code",
   "execution_count": 27,
   "metadata": {},
   "outputs": [
    {
     "name": "stdout",
     "output_type": "stream",
     "text": [
      "vanilla model:\n",
      "\n",
      "Normalized confusion matrix\n",
      "[[0.2  0.35 0.34 0.1 ]\n",
      " [0.07 0.48 0.27 0.17]\n",
      " [0.04 0.3  0.58 0.08]\n",
      " [0.   0.02 0.04 0.94]]\n"
     ]
    },
    {
     "data": {
      "image/png": "[encoded data removed]",
      "text/plain": [
       "<Figure size 432x288 with 2 Axes>"
      ]
     },
     "metadata": {
      "needs_background": "light"
     },
     "output_type": "display_data"
    },
    {
     "name": "stdout",
     "output_type": "stream",
     "text": [
      "None\n",
      "Classification report for eval data:\n",
      "               precision    recall  f1-score   support\n",
      "\n",
      "           B       0.64      0.20      0.31       745\n",
      "          NB       0.50      0.48      0.49       858\n",
      "          PB       0.37      0.58      0.46       499\n",
      "           U       0.00      0.00      0.00         0\n",
      "\n",
      "   micro avg       0.41      0.41      0.41      2102\n",
      "   macro avg       0.38      0.32      0.31      2102\n",
      "weighted avg       0.52      0.41      0.42      2102\n",
      "\n"
     ]
    },
    {
     "name": "stderr",
     "output_type": "stream",
     "text": [
      "/home/mariya/software/anaconda/envs/thesis/lib/python3.6/site-packages/sklearn/metrics/classification.py:1145: UndefinedMetricWarning: Recall and F-score are ill-defined and being set to 0.0 in labels with no true samples.\n",
      "  'recall', 'true', average, warn_for)\n"
     ]
    }
   ],
   "source": [
    "print('vanilla model:\\n')\n",
    "print(cnf_matrix(labels_true, labels_pred_vanilla, ['NB', 'PB', 'B', 'U']))\n",
    "clf_report(true_labels_no_U, vanilla_pred_no_U)"
   ]
  },
  {
   "cell_type": "code",
   "execution_count": 43,
   "metadata": {},
   "outputs": [
    {
     "name": "stdout",
     "output_type": "stream",
     "text": [
      "stacked model:\n",
      "\n",
      "Normalized confusion matrix\n",
      "[[0.19 0.3  0.39 0.11]\n",
      " [0.06 0.41 0.36 0.17]\n",
      " [0.02 0.21 0.67 0.09]\n",
      " [0.   0.01 0.05 0.93]]\n"
     ]
    },
    {
     "data": {
      "image/png": "[encoded data removed]",
      "text/plain": [
       "<Figure size 432x288 with 2 Axes>"
      ]
     },
     "metadata": {
      "needs_background": "light"
     },
     "output_type": "display_data"
    },
    {
     "name": "stdout",
     "output_type": "stream",
     "text": [
      "None\n",
      "Classification report for eval data:\n",
      "               precision    recall  f1-score   support\n",
      "\n",
      "           B       0.68      0.19      0.30       745\n",
      "          NB       0.52      0.41      0.46       858\n",
      "          PB       0.36      0.67      0.47       499\n",
      "           U       0.00      0.00      0.00         0\n",
      "\n",
      "   micro avg       0.39      0.39      0.39      2102\n",
      "   macro avg       0.39      0.32      0.31      2102\n",
      "weighted avg       0.54      0.39      0.40      2102\n",
      "\n"
     ]
    }
   ],
   "source": [
    "print('stacked model:\\n')\n",
    "print(cnf_matrix(labels_true, labels_pred_stacked, ['NB', 'PB', 'B', 'U']))\n",
    "clf_report(true_labels_no_U, stacked_pred_no_U)"
   ]
  },
  {
   "cell_type": "code",
   "execution_count": 44,
   "metadata": {},
   "outputs": [
    {
     "name": "stdout",
     "output_type": "stream",
     "text": [
      "bi lstm model:\n",
      "\n",
      "Normalized confusion matrix\n",
      "[[0.22 0.43 0.28 0.07]\n",
      " [0.07 0.57 0.23 0.13]\n",
      " [0.03 0.38 0.48 0.11]\n",
      " [0.   0.03 0.03 0.94]]\n"
     ]
    },
    {
     "data": {
      "image/png": "[encoded data removed]",
      "text/plain": [
       "<Figure size 432x288 with 2 Axes>"
      ]
     },
     "metadata": {
      "needs_background": "light"
     },
     "output_type": "display_data"
    },
    {
     "name": "stdout",
     "output_type": "stream",
     "text": [
      "None\n",
      "Classification report for eval data:\n",
      "               precision    recall  f1-score   support\n",
      "\n",
      "           B       0.68      0.22      0.33       745\n",
      "          NB       0.49      0.57      0.53       858\n",
      "          PB       0.37      0.48      0.42       499\n",
      "           U       0.00      0.00      0.00         0\n",
      "\n",
      "   micro avg       0.42      0.42      0.42      2102\n",
      "   macro avg       0.39      0.32      0.32      2102\n",
      "weighted avg       0.53      0.42      0.43      2102\n",
      "\n"
     ]
    }
   ],
   "source": [
    "print('bi lstm model:\\n')\n",
    "print(cnf_matrix(labels_true, labels_pred_bi_lstm, ['NB', 'PB', 'B', 'U']))\n",
    "clf_report(true_labels_no_U, bi_lstm_pred_no_U)"
   ]
  }
 ],
 "metadata": {
  "kernelspec": {
   "display_name": "thesis",
   "language": "python",
   "name": "thesis"
  },
  "language_info": {
   "codemirror_mode": {
    "name": "ipython",
    "version": 3
   },
   "file_extension": ".py",
   "mimetype": "text/x-python",
   "name": "python",
   "nbconvert_exporter": "python",
   "pygments_lexer": "ipython3",
   "version": "3.6.7"
  }
 },
 "nbformat": 4,
 "nbformat_minor": 2
}
